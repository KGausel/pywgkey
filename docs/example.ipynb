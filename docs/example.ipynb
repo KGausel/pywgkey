{
 "cells": [
  {
   "cell_type": "markdown",
   "metadata": {},
   "source": [
    "# Usage\n",
    "\n",
    "`pywgkey` can be used directly from the CLI or in python scripts.\n",
    "\n",
    "## From CLI\n",
    "\n",
    "```console\n",
    "$ python3 -m pywgkey --help\n",
    "Usage: python -m pywgkey [OPTIONS] WANTED_STRING\n",
    "\n",
    "  Generate WireGuard keypair containing specified wanted string.\n",
    "\n",
    "Options:\n",
    "  -b, --begining  If the pubkey must start with the string.\n",
    "  -w, --write     Write keys to files.\n",
    "  -p, --psk       Genarate a preshared key as well.\n",
    "  --help          Show this message and exit.\n",
    "```\n",
    "\n",
    "### Generate and print a keypair containing a string\n",
    "\n",
    "```console\n",
    "$ python -m pywgkey test\n",
    "Your public key is:  1f810nNMhOB8mYpGbEvDwmXTeStPMycLiHpw0/CeL1c=\n",
    "Your private key is: 75C5ahPr5UY3paWXvLRKd82EK7KWuDDJ0D9h7/p21Us=\n",
    "```\n",
    "\n",
    "### Generate and write the keys to the current folder\n",
    "\n",
    "```console\n",
    "$ python -m pywgkey -w test\n",
    "Keys have been writen to test.pub and test.priv\n",
    "$ cat test.pub\n",
    "1f810nNMhOB8mYpGbEvDwmXTeStPMycLiHpw0/CeL1c=\n",
    "$ cat test.priv\n",
    "75C5ahPr5UY3paWXvLRKd82EK7KWuDDJ0D9h7/p21Us=\n",
    "```\n",
    "\n",
    "### If you want the public key to **start** with a string (case is ignored)\n",
    "\n",
    "```console\n",
    "$ python -m pywgkey -b test\n",
    "Your public key is:  TEsTtKLgqud0Yohg8geFKcnGy99xFzZlMvSv2YbwT1Y=\n",
    "Your private key is: paknyfh/d0LhZP2LqtjzJs2UE6XwaN14irxFdLV6d94=\n",
    "```"
   ]
  },
  {
   "cell_type": "markdown",
   "metadata": {},
   "source": [
    "\n",
    "## From python script\n",
    "\n",
    "### Generate a key pair"
   ]
  },
  {
   "cell_type": "code",
   "execution_count": 14,
   "metadata": {},
   "outputs": [],
   "source": [
    "from pywgkey import WgKey\n",
    "key = WgKey()"
   ]
  },
  {
   "cell_type": "markdown",
   "metadata": {},
   "source": [
    "Print the public and private keys:"
   ]
  },
  {
   "cell_type": "code",
   "execution_count": 15,
   "metadata": {},
   "outputs": [
    {
     "name": "stdout",
     "output_type": "stream",
     "text": [
      "02ixpOIlS6uH1sZ29qm9BkTOdlpVa1LKctCBhDGIv1M=\n",
      "8UEW9Ad1c+BuERpi3Y+sfj2hPCmPzm1ijmsY/HqMVWI=\n"
     ]
    }
   ],
   "source": [
    "print(key.pubkey)\n",
    "print(key.privkey)"
   ]
  },
  {
   "cell_type": "markdown",
   "metadata": {},
   "source": [
    "### Generate a keypair with the public key containing a specific string"
   ]
  },
  {
   "cell_type": "code",
   "execution_count": 16,
   "metadata": {},
   "outputs": [],
   "source": [
    "from pywgkey.utils import generate_keys_until_string_is_found\n",
    "custom_key = generate_keys_until_string_is_found(\"ab\")"
   ]
  },
  {
   "cell_type": "markdown",
   "metadata": {},
   "source": [
    "In this case, the key has a `name` attribute as well (which is the string you provided):"
   ]
  },
  {
   "cell_type": "code",
   "execution_count": 17,
   "metadata": {},
   "outputs": [
    {
     "name": "stdout",
     "output_type": "stream",
     "text": [
      "NABVQsJ38x8D80h/xDvAk6Ln5UEb+nsX7d57QJFTmF0=\n",
      "tS9Y9UCvbFlERZR6bAjfp6oQn6+55cMFe1Yx0AmDBq0=\n",
      "ab\n"
     ]
    }
   ],
   "source": [
    "print(custom_key.pubkey)\n",
    "print(custom_key.privkey)\n",
    "print(custom_key.name)"
   ]
  },
  {
   "cell_type": "markdown",
   "metadata": {},
   "source": [
    "### You want your public key to start with your string"
   ]
  },
  {
   "cell_type": "code",
   "execution_count": null,
   "metadata": {},
   "outputs": [],
   "source": [
    "pretty_key = generate_keys_until_string_is_found(\"abc\", startswith=True)\n",
    "print(pretty_key.pubkey)\n",
    "print(pretty_key.name)"
   ]
  }
 ],
 "metadata": {
  "interpreter": {
   "hash": "9a50d4ce0405de9e8bcc0eae637b2d02bc4ebb4705d2e4efa0183c2ebd1af7ee"
  },
  "kernelspec": {
   "display_name": "Python 3.7.12 ('.venv': poetry)",
   "language": "python",
   "name": "python3"
  },
  "language_info": {
   "codemirror_mode": {
    "name": "ipython",
    "version": 3
   },
   "file_extension": ".py",
   "mimetype": "text/x-python",
   "name": "python",
   "nbconvert_exporter": "python",
   "pygments_lexer": "ipython3",
   "version": "3.7.12"
  },
  "orig_nbformat": 4
 },
 "nbformat": 4,
 "nbformat_minor": 2
}
